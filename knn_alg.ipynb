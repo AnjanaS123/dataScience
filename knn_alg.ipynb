{
 "cells": [
  {
   "cell_type": "code",
   "execution_count": null,
   "id": "d0c39160",
   "metadata": {},
   "outputs": [],
   "source": [
    "\n",
    "import numpy as np\n",
    "import matplotlib.pyplot as plt\n",
    "import pandas as pd\n",
    "dataset = pd.read_csv(r'C:\\Users\\admin\\Desktop\\subha\\Social_Network_Ads.csv')\n",
    "X = dataset.iloc[:, [2, 3]].values\n",
    "y = dataset.iloc[:, -1].values\n",
    "from sklearn.model_selection import train_test_split\n",
    "X_train, X_test, y_train, y_test = train_test_split(X, y, test_size = 0.20, random_state = 0)\n",
    "from sklearn.preprocessing import StandardScaler\n",
    "sc = StandardScaler()\n",
    "X_train = sc.fit_transform(X_train)\n",
    "X_test = sc.transform(X_test)\n",
    "from sklearn.neighbors import KNeighborsClassifier\n",
    "classifier20 = KNeighborsClassifier(n_neighbors = 20, metric = 'minkowski', p = 2)\n",
    "classifier20.fit(X_train, y_train)\n",
    "classifier10 = KNeighborsClassifier(n_neighbors = 10, metric = 'minkowski', p = 2)\n",
    "classifier10.fit(X_train, y_train)\n",
    "classifier5 = KNeighborsClassifier(n_neighbors = 5, metric = 'minkowski', p = 2)\n",
    "classifier5.fit(X_train, y_train)\n",
    "classifier1 = KNeighborsClassifier(n_neighbors = 1, metric = 'minkowski', p = 2)\n",
    "classifier1.fit(X_train, y_train)\n",
    "y_pred20 = classifier20.predict(X_test)\n",
    "y_pred10 = classifier10.predict(X_test)\n",
    "y_pred5 = classifier5.predict(X_test)\n",
    "y_pred1 = classifier1.predict(X_test)\n",
    "from sklearn.metrics import confusion_matrix, accuracy_score\n",
    "cm20 = confusion_matrix(y_test, y_pred20)\n",
    "ac20 = accuracy_score(y_test, y_pred20)\n",
    "print(cm20)\n",
    "print(ac20)\n",
    "cm10 = confusion_matrix(y_test, y_pred10)\n",
    "ac10 = accuracy_score(y_test, y_pred10)\n",
    "print(cm10)\n",
    "print(ac10)\n",
    "cm5 = confusion_matrix(y_test, y_pred5)\n",
    "ac5 = accuracy_score(y_test, y_pred5)\n",
    "print(cm5)\n",
    "print(ac5)\n",
    "cm1 = confusion_matrix(y_test, y_pred1)\n",
    "ac1 = accuracy_score(y_test, y_pred1)\n",
    "print(cm1)\n",
    "print(ac1)\n",
    "plt.figure(figsize = (15,5))\n",
    "plt.subplot(1,2,1)\n",
    "plt.scatter(X_test[:,0], X_test[:,1], c=y_pred5, marker= '*', s=100,edgecolors='black')\n",
    "plt.title(\"Predicted values with k=5\", fontsize=20)\n",
    "\n",
    "plt.subplot(1,2,2)\n",
    "plt.scatter(X_test[:,0], X_test[:,1], c=y_pred1, marker= '*', s=100,edgecolors='black')\n",
    "plt.title(\"Predicted values with k=1\", fontsize=20)\n",
    "plt.show()"
   ]
  }
 ],
 "metadata": {
  "kernelspec": {
   "display_name": "Python 3",
   "language": "python",
   "name": "python3"
  },
  "language_info": {
   "codemirror_mode": {
    "name": "ipython",
    "version": 3
   },
   "file_extension": ".py",
   "mimetype": "text/x-python",
   "name": "python",
   "nbconvert_exporter": "python",
   "pygments_lexer": "ipython3",
   "version": "3.8.8"
  }
 },
 "nbformat": 4,
 "nbformat_minor": 5
}
